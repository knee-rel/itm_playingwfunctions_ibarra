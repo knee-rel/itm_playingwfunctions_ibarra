{
 "cells": [
  {
   "cell_type": "markdown",
   "metadata": {},
   "source": [
    "# 192468\n",
    "# Ibarra\n",
    "# 2 BS ITE"
   ]
  },
  {
   "cell_type": "code",
   "execution_count": 1,
   "metadata": {},
   "outputs": [
    {
     "name": "stdout",
     "output_type": "stream",
     "text": [
      "50.24\n"
     ]
    }
   ],
   "source": [
    "# Number One\n",
    "def circumference(c):\n",
    "    return c ** 2 / (4 * 3.14)\n",
    "\n",
    "#test number one\n",
    "print(circumference(25.12))"
   ]
  },
  {
   "cell_type": "code",
   "execution_count": 2,
   "metadata": {},
   "outputs": [
    {
     "name": "stdout",
     "output_type": "stream",
     "text": [
      "Enter a five letter word: hello\n",
      "olleh\n"
     ]
    }
   ],
   "source": [
    "#Number Two\n",
    "def reverse_word(word):\n",
    "    str = ''\n",
    "    for letter in word:\n",
    "        str = letter + str\n",
    "    return str\n",
    "\n",
    "while True:\n",
    "    word = input('Enter a five letter word: ')\n",
    "    if len(word) == 5:\n",
    "        print(reverse_word(word))\n",
    "        break\n",
    "    else:\n",
    "        print('Invalid. Must be exactly five words.')"
   ]
  },
  {
   "cell_type": "code",
   "execution_count": null,
   "metadata": {},
   "outputs": [
    {
     "name": "stdout",
     "output_type": "stream",
     "text": [
      "Enter an integer: 5\n",
      "1+2+3+4+5 = 15\n",
      "Enter an integer: 10\n",
      "1+2+3+4+5+6+7+8+9+10 = 55\n"
     ]
    }
   ],
   "source": [
    "#Number Three\n",
    "def backAddition(num):\n",
    "    while True:\n",
    "        output = ''\n",
    "        num = int(input('Enter an integer: '))\n",
    "\n",
    "        if num <= 0:\n",
    "            exit()\n",
    "\n",
    "        for i in range(1, num+1):\n",
    "            output += '{}'.format(i)\n",
    "            if i != num:\n",
    "                output += '+'\n",
    "        output += ' = {}'.format(sum(range(num+1)))\n",
    "        print(output)\n",
    "\n",
    "backAddition(5)"
   ]
  },
  {
   "cell_type": "code",
   "execution_count": 1,
   "metadata": {},
   "outputs": [
    {
     "name": "stdout",
     "output_type": "stream",
     "text": [
      "25164150\n"
     ]
    }
   ],
   "source": [
    "#Number Four\n",
    "def sum_of_squares(num):\n",
    "    return sum([x**2 for x in range(1, num + 1)])\n",
    "\n",
    "def square_of_sum(num):\n",
    "    return sum(range(1, num + 1)) ** 2\n",
    "\n",
    "result = square_of_sum(100) - sum_of_squares(100)\n",
    "print(result)"
   ]
  },
  {
   "cell_type": "code",
   "execution_count": null,
   "metadata": {},
   "outputs": [],
   "source": [
    "#Number Five\n",
    "def countCurrency(cents): \n",
    "    coins = [100, 25, 10, 5, 1] \n",
    "                 \n",
    "    coin_counter = [0, 0, 0, 0, 0] \n",
    "      \n",
    "    for cur, qty in zip(coins, coin_counter): \n",
    "        if cents >= cur: \n",
    "            qty = cents // cur \n",
    "            cents = cents - qty * cur \n",
    "            print (cur ,\" : \", qty) \n",
    "            \n",
    "amount = 69\n",
    "countCurrency(amount) "
   ]
  }
 ],
 "metadata": {
  "kernelspec": {
   "display_name": "Python 3",
   "language": "python",
   "name": "python3"
  },
  "language_info": {
   "codemirror_mode": {
    "name": "ipython",
    "version": 3
   },
   "file_extension": ".py",
   "mimetype": "text/x-python",
   "name": "python",
   "nbconvert_exporter": "python",
   "pygments_lexer": "ipython3",
   "version": "3.8.5"
  }
 },
 "nbformat": 4,
 "nbformat_minor": 4
}
